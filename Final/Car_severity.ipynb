{
  "nbformat": 4,
  "nbformat_minor": 0,
  "metadata": {
    "colab": {
      "name": "Car severity.ipynb",
      "provenance": [],
      "collapsed_sections": []
    },
    "kernelspec": {
      "name": "python3",
      "display_name": "Python 3"
    }
  },
  "cells": [
    {
      "cell_type": "markdown",
      "metadata": {
        "id": "0mwMh_KHzVki",
        "colab_type": "text"
      },
      "source": [
        "## Notebook Imports"
      ]
    },
    {
      "cell_type": "code",
      "metadata": {
        "id": "P0VA-Vv0zcs-",
        "colab_type": "code",
        "colab": {}
      },
      "source": [
        "import pandas as pd\n",
        "import numpy as np\n",
        "import matplotlib.pyplot as plt\n",
        "import matplotlib as mpl\n",
        "from sklearn import preprocessing\n",
        "from scipy import stats\n",
        "import scipy as sp\n",
        "import random\n",
        "import seaborn as sns\n",
        "from sklearn.metrics import accuracy_score,f1_score,log_loss,classification_report,confusion_matrix,jaccard_score\n",
        "from sklearn.tree import DecisionTreeClassifier\n",
        "from sklearn.model_selection import train_test_split\n",
        "from sklearn import svm\n",
        "from sklearn import metrics\n",
        "import pydotplus\n",
        "import matplotlib.image as mpimg\n",
        "from io import StringIO\n",
        "import itertools\n",
        "from sklearn.linear_model import LogisticRegression\n",
        "from sklearn.neighbors import KNeighborsClassifier\n",
        "from sklearn.metrics import classification_report, confusion_matrix\n",
        "import itertools\n",
        "import folium\n",
        "import webbrowser\n",
        "from folium import plugins\n",
        "from imblearn.over_sampling import SMOTE\n"
      ],
      "execution_count": 104,
      "outputs": []
    },
    {
      "cell_type": "code",
      "metadata": {
        "id": "eQ2vresdzhTt",
        "colab_type": "code",
        "colab": {
          "base_uri": "https://localhost:8080/",
          "height": 72
        },
        "outputId": "1e62fb36-6929-4dc4-8ca6-c05c877c0fcd"
      },
      "source": [
        "#Importing Dataset\n",
        "\n",
        "main_df = pd.read_csv('Data-Collisions.csv') "
      ],
      "execution_count": 105,
      "outputs": [
        {
          "output_type": "stream",
          "text": [
            "/usr/local/lib/python3.6/dist-packages/IPython/core/interactiveshell.py:2718: DtypeWarning: Columns (33) have mixed types.Specify dtype option on import or set low_memory=False.\n",
            "  interactivity=interactivity, compiler=compiler, result=result)\n"
          ],
          "name": "stderr"
        }
      ]
    },
    {
      "cell_type": "code",
      "metadata": {
        "id": "vRb2NNQJz9k5",
        "colab_type": "code",
        "colab": {
          "base_uri": "https://localhost:8080/",
          "height": 35
        },
        "outputId": "b786b473-d814-429e-a438-e69e163a6f14"
      },
      "source": [
        "#Converting Severity Code from (1/2) tp (0/1)\n",
        "severity_code = main_df['SEVERITYCODE'].values\n",
        "severity_code"
      ],
      "execution_count": 106,
      "outputs": [
        {
          "output_type": "execute_result",
          "data": {
            "text/plain": [
              "array([2, 1, 1, ..., 2, 2, 1])"
            ]
          },
          "metadata": {
            "tags": []
          },
          "execution_count": 106
        }
      ]
    },
    {
      "cell_type": "code",
      "metadata": {
        "id": "stj8UwGL084j",
        "colab_type": "code",
        "colab": {
          "base_uri": "https://localhost:8080/",
          "height": 35
        },
        "outputId": "0af13fa8-9246-47cf-e278-04c3c7ad3bb4"
      },
      "source": [
        "labels = preprocessing.LabelEncoder()\n",
        "labels.fit([1, 2])\n",
        "severity_code = labels.transform (severity_code)\n",
        "\n",
        "main_df [\"SEVERITYCODE\"] = severity_code\n",
        "severity_code"
      ],
      "execution_count": 107,
      "outputs": [
        {
          "output_type": "execute_result",
          "data": {
            "text/plain": [
              "array([1, 0, 0, ..., 1, 1, 0])"
            ]
          },
          "metadata": {
            "tags": []
          },
          "execution_count": 107
        }
      ]
    },
    {
      "cell_type": "code",
      "metadata": {
        "id": "DHE3RL2l1Di0",
        "colab_type": "code",
        "colab": {
          "base_uri": "https://localhost:8080/",
          "height": 527
        },
        "outputId": "4597d709-2b1c-4745-b76c-626bb2d1dde0"
      },
      "source": [
        "#Descriptive Stats\n",
        "descriptive_stats= main_df.describe(include=\"all\")\n",
        "descriptive_stats"
      ],
      "execution_count": 108,
      "outputs": [
        {
          "output_type": "execute_result",
          "data": {
            "text/html": [
              "<div>\n",
              "<style scoped>\n",
              "    .dataframe tbody tr th:only-of-type {\n",
              "        vertical-align: middle;\n",
              "    }\n",
              "\n",
              "    .dataframe tbody tr th {\n",
              "        vertical-align: top;\n",
              "    }\n",
              "\n",
              "    .dataframe thead th {\n",
              "        text-align: right;\n",
              "    }\n",
              "</style>\n",
              "<table border=\"1\" class=\"dataframe\">\n",
              "  <thead>\n",
              "    <tr style=\"text-align: right;\">\n",
              "      <th></th>\n",
              "      <th>SEVERITYCODE</th>\n",
              "      <th>X</th>\n",
              "      <th>Y</th>\n",
              "      <th>OBJECTID</th>\n",
              "      <th>INCKEY</th>\n",
              "      <th>COLDETKEY</th>\n",
              "      <th>REPORTNO</th>\n",
              "      <th>STATUS</th>\n",
              "      <th>ADDRTYPE</th>\n",
              "      <th>INTKEY</th>\n",
              "      <th>LOCATION</th>\n",
              "      <th>EXCEPTRSNCODE</th>\n",
              "      <th>EXCEPTRSNDESC</th>\n",
              "      <th>SEVERITYCODE.1</th>\n",
              "      <th>SEVERITYDESC</th>\n",
              "      <th>COLLISIONTYPE</th>\n",
              "      <th>PERSONCOUNT</th>\n",
              "      <th>PEDCOUNT</th>\n",
              "      <th>PEDCYLCOUNT</th>\n",
              "      <th>VEHCOUNT</th>\n",
              "      <th>INCDATE</th>\n",
              "      <th>INCDTTM</th>\n",
              "      <th>JUNCTIONTYPE</th>\n",
              "      <th>SDOT_COLCODE</th>\n",
              "      <th>SDOT_COLDESC</th>\n",
              "      <th>INATTENTIONIND</th>\n",
              "      <th>UNDERINFL</th>\n",
              "      <th>WEATHER</th>\n",
              "      <th>ROADCOND</th>\n",
              "      <th>LIGHTCOND</th>\n",
              "      <th>PEDROWNOTGRNT</th>\n",
              "      <th>SDOTCOLNUM</th>\n",
              "      <th>SPEEDING</th>\n",
              "      <th>ST_COLCODE</th>\n",
              "      <th>ST_COLDESC</th>\n",
              "      <th>SEGLANEKEY</th>\n",
              "      <th>CROSSWALKKEY</th>\n",
              "      <th>HITPARKEDCAR</th>\n",
              "    </tr>\n",
              "  </thead>\n",
              "  <tbody>\n",
              "    <tr>\n",
              "      <th>count</th>\n",
              "      <td>194673.000000</td>\n",
              "      <td>189339.000000</td>\n",
              "      <td>189339.000000</td>\n",
              "      <td>194673.000000</td>\n",
              "      <td>194673.000000</td>\n",
              "      <td>194673.000000</td>\n",
              "      <td>194673</td>\n",
              "      <td>194673</td>\n",
              "      <td>192747</td>\n",
              "      <td>65070.000000</td>\n",
              "      <td>191996</td>\n",
              "      <td>84811</td>\n",
              "      <td>5638</td>\n",
              "      <td>194673.000000</td>\n",
              "      <td>194673</td>\n",
              "      <td>189769</td>\n",
              "      <td>194673.000000</td>\n",
              "      <td>194673.000000</td>\n",
              "      <td>194673.000000</td>\n",
              "      <td>194673.000000</td>\n",
              "      <td>194673</td>\n",
              "      <td>194673</td>\n",
              "      <td>188344</td>\n",
              "      <td>194673.000000</td>\n",
              "      <td>194673</td>\n",
              "      <td>29805</td>\n",
              "      <td>189789</td>\n",
              "      <td>189592</td>\n",
              "      <td>189661</td>\n",
              "      <td>189503</td>\n",
              "      <td>4667</td>\n",
              "      <td>1.149360e+05</td>\n",
              "      <td>9333</td>\n",
              "      <td>194655</td>\n",
              "      <td>189769</td>\n",
              "      <td>194673.000000</td>\n",
              "      <td>1.946730e+05</td>\n",
              "      <td>194673</td>\n",
              "    </tr>\n",
              "    <tr>\n",
              "      <th>unique</th>\n",
              "      <td>NaN</td>\n",
              "      <td>NaN</td>\n",
              "      <td>NaN</td>\n",
              "      <td>NaN</td>\n",
              "      <td>NaN</td>\n",
              "      <td>NaN</td>\n",
              "      <td>194670</td>\n",
              "      <td>2</td>\n",
              "      <td>3</td>\n",
              "      <td>NaN</td>\n",
              "      <td>24102</td>\n",
              "      <td>2</td>\n",
              "      <td>1</td>\n",
              "      <td>NaN</td>\n",
              "      <td>2</td>\n",
              "      <td>10</td>\n",
              "      <td>NaN</td>\n",
              "      <td>NaN</td>\n",
              "      <td>NaN</td>\n",
              "      <td>NaN</td>\n",
              "      <td>5985</td>\n",
              "      <td>162058</td>\n",
              "      <td>7</td>\n",
              "      <td>NaN</td>\n",
              "      <td>39</td>\n",
              "      <td>1</td>\n",
              "      <td>4</td>\n",
              "      <td>11</td>\n",
              "      <td>9</td>\n",
              "      <td>9</td>\n",
              "      <td>1</td>\n",
              "      <td>NaN</td>\n",
              "      <td>1</td>\n",
              "      <td>115</td>\n",
              "      <td>62</td>\n",
              "      <td>NaN</td>\n",
              "      <td>NaN</td>\n",
              "      <td>2</td>\n",
              "    </tr>\n",
              "    <tr>\n",
              "      <th>top</th>\n",
              "      <td>NaN</td>\n",
              "      <td>NaN</td>\n",
              "      <td>NaN</td>\n",
              "      <td>NaN</td>\n",
              "      <td>NaN</td>\n",
              "      <td>NaN</td>\n",
              "      <td>1776526</td>\n",
              "      <td>Matched</td>\n",
              "      <td>Block</td>\n",
              "      <td>NaN</td>\n",
              "      <td>BATTERY ST TUNNEL NB BETWEEN ALASKAN WY VI NB ...</td>\n",
              "      <td></td>\n",
              "      <td>Not Enough Information, or Insufficient Locati...</td>\n",
              "      <td>NaN</td>\n",
              "      <td>Property Damage Only Collision</td>\n",
              "      <td>Parked Car</td>\n",
              "      <td>NaN</td>\n",
              "      <td>NaN</td>\n",
              "      <td>NaN</td>\n",
              "      <td>NaN</td>\n",
              "      <td>2006/11/02 00:00:00+00</td>\n",
              "      <td>11/2/2006</td>\n",
              "      <td>Mid-Block (not related to intersection)</td>\n",
              "      <td>NaN</td>\n",
              "      <td>MOTOR VEHICLE STRUCK MOTOR VEHICLE, FRONT END ...</td>\n",
              "      <td>Y</td>\n",
              "      <td>N</td>\n",
              "      <td>Clear</td>\n",
              "      <td>Dry</td>\n",
              "      <td>Daylight</td>\n",
              "      <td>Y</td>\n",
              "      <td>NaN</td>\n",
              "      <td>Y</td>\n",
              "      <td>32</td>\n",
              "      <td>One parked--one moving</td>\n",
              "      <td>NaN</td>\n",
              "      <td>NaN</td>\n",
              "      <td>N</td>\n",
              "    </tr>\n",
              "    <tr>\n",
              "      <th>freq</th>\n",
              "      <td>NaN</td>\n",
              "      <td>NaN</td>\n",
              "      <td>NaN</td>\n",
              "      <td>NaN</td>\n",
              "      <td>NaN</td>\n",
              "      <td>NaN</td>\n",
              "      <td>2</td>\n",
              "      <td>189786</td>\n",
              "      <td>126926</td>\n",
              "      <td>NaN</td>\n",
              "      <td>276</td>\n",
              "      <td>79173</td>\n",
              "      <td>5638</td>\n",
              "      <td>NaN</td>\n",
              "      <td>136485</td>\n",
              "      <td>47987</td>\n",
              "      <td>NaN</td>\n",
              "      <td>NaN</td>\n",
              "      <td>NaN</td>\n",
              "      <td>NaN</td>\n",
              "      <td>96</td>\n",
              "      <td>96</td>\n",
              "      <td>89800</td>\n",
              "      <td>NaN</td>\n",
              "      <td>85209</td>\n",
              "      <td>29805</td>\n",
              "      <td>100274</td>\n",
              "      <td>111135</td>\n",
              "      <td>124510</td>\n",
              "      <td>116137</td>\n",
              "      <td>4667</td>\n",
              "      <td>NaN</td>\n",
              "      <td>9333</td>\n",
              "      <td>27612</td>\n",
              "      <td>44421</td>\n",
              "      <td>NaN</td>\n",
              "      <td>NaN</td>\n",
              "      <td>187457</td>\n",
              "    </tr>\n",
              "    <tr>\n",
              "      <th>mean</th>\n",
              "      <td>0.298901</td>\n",
              "      <td>-122.330518</td>\n",
              "      <td>47.619543</td>\n",
              "      <td>108479.364930</td>\n",
              "      <td>141091.456350</td>\n",
              "      <td>141298.811381</td>\n",
              "      <td>NaN</td>\n",
              "      <td>NaN</td>\n",
              "      <td>NaN</td>\n",
              "      <td>37558.450576</td>\n",
              "      <td>NaN</td>\n",
              "      <td>NaN</td>\n",
              "      <td>NaN</td>\n",
              "      <td>1.298901</td>\n",
              "      <td>NaN</td>\n",
              "      <td>NaN</td>\n",
              "      <td>2.444427</td>\n",
              "      <td>0.037139</td>\n",
              "      <td>0.028391</td>\n",
              "      <td>1.920780</td>\n",
              "      <td>NaN</td>\n",
              "      <td>NaN</td>\n",
              "      <td>NaN</td>\n",
              "      <td>13.867768</td>\n",
              "      <td>NaN</td>\n",
              "      <td>NaN</td>\n",
              "      <td>NaN</td>\n",
              "      <td>NaN</td>\n",
              "      <td>NaN</td>\n",
              "      <td>NaN</td>\n",
              "      <td>NaN</td>\n",
              "      <td>7.972521e+06</td>\n",
              "      <td>NaN</td>\n",
              "      <td>NaN</td>\n",
              "      <td>NaN</td>\n",
              "      <td>269.401114</td>\n",
              "      <td>9.782452e+03</td>\n",
              "      <td>NaN</td>\n",
              "    </tr>\n",
              "    <tr>\n",
              "      <th>std</th>\n",
              "      <td>0.457778</td>\n",
              "      <td>0.029976</td>\n",
              "      <td>0.056157</td>\n",
              "      <td>62649.722558</td>\n",
              "      <td>86634.402737</td>\n",
              "      <td>86986.542110</td>\n",
              "      <td>NaN</td>\n",
              "      <td>NaN</td>\n",
              "      <td>NaN</td>\n",
              "      <td>51745.990273</td>\n",
              "      <td>NaN</td>\n",
              "      <td>NaN</td>\n",
              "      <td>NaN</td>\n",
              "      <td>0.457778</td>\n",
              "      <td>NaN</td>\n",
              "      <td>NaN</td>\n",
              "      <td>1.345929</td>\n",
              "      <td>0.198150</td>\n",
              "      <td>0.167413</td>\n",
              "      <td>0.631047</td>\n",
              "      <td>NaN</td>\n",
              "      <td>NaN</td>\n",
              "      <td>NaN</td>\n",
              "      <td>6.868755</td>\n",
              "      <td>NaN</td>\n",
              "      <td>NaN</td>\n",
              "      <td>NaN</td>\n",
              "      <td>NaN</td>\n",
              "      <td>NaN</td>\n",
              "      <td>NaN</td>\n",
              "      <td>NaN</td>\n",
              "      <td>2.553533e+06</td>\n",
              "      <td>NaN</td>\n",
              "      <td>NaN</td>\n",
              "      <td>NaN</td>\n",
              "      <td>3315.776055</td>\n",
              "      <td>7.226926e+04</td>\n",
              "      <td>NaN</td>\n",
              "    </tr>\n",
              "    <tr>\n",
              "      <th>min</th>\n",
              "      <td>0.000000</td>\n",
              "      <td>-122.419091</td>\n",
              "      <td>47.495573</td>\n",
              "      <td>1.000000</td>\n",
              "      <td>1001.000000</td>\n",
              "      <td>1001.000000</td>\n",
              "      <td>NaN</td>\n",
              "      <td>NaN</td>\n",
              "      <td>NaN</td>\n",
              "      <td>23807.000000</td>\n",
              "      <td>NaN</td>\n",
              "      <td>NaN</td>\n",
              "      <td>NaN</td>\n",
              "      <td>1.000000</td>\n",
              "      <td>NaN</td>\n",
              "      <td>NaN</td>\n",
              "      <td>0.000000</td>\n",
              "      <td>0.000000</td>\n",
              "      <td>0.000000</td>\n",
              "      <td>0.000000</td>\n",
              "      <td>NaN</td>\n",
              "      <td>NaN</td>\n",
              "      <td>NaN</td>\n",
              "      <td>0.000000</td>\n",
              "      <td>NaN</td>\n",
              "      <td>NaN</td>\n",
              "      <td>NaN</td>\n",
              "      <td>NaN</td>\n",
              "      <td>NaN</td>\n",
              "      <td>NaN</td>\n",
              "      <td>NaN</td>\n",
              "      <td>1.007024e+06</td>\n",
              "      <td>NaN</td>\n",
              "      <td>NaN</td>\n",
              "      <td>NaN</td>\n",
              "      <td>0.000000</td>\n",
              "      <td>0.000000e+00</td>\n",
              "      <td>NaN</td>\n",
              "    </tr>\n",
              "    <tr>\n",
              "      <th>25%</th>\n",
              "      <td>0.000000</td>\n",
              "      <td>-122.348673</td>\n",
              "      <td>47.575956</td>\n",
              "      <td>54267.000000</td>\n",
              "      <td>70383.000000</td>\n",
              "      <td>70383.000000</td>\n",
              "      <td>NaN</td>\n",
              "      <td>NaN</td>\n",
              "      <td>NaN</td>\n",
              "      <td>28667.000000</td>\n",
              "      <td>NaN</td>\n",
              "      <td>NaN</td>\n",
              "      <td>NaN</td>\n",
              "      <td>1.000000</td>\n",
              "      <td>NaN</td>\n",
              "      <td>NaN</td>\n",
              "      <td>2.000000</td>\n",
              "      <td>0.000000</td>\n",
              "      <td>0.000000</td>\n",
              "      <td>2.000000</td>\n",
              "      <td>NaN</td>\n",
              "      <td>NaN</td>\n",
              "      <td>NaN</td>\n",
              "      <td>11.000000</td>\n",
              "      <td>NaN</td>\n",
              "      <td>NaN</td>\n",
              "      <td>NaN</td>\n",
              "      <td>NaN</td>\n",
              "      <td>NaN</td>\n",
              "      <td>NaN</td>\n",
              "      <td>NaN</td>\n",
              "      <td>6.040015e+06</td>\n",
              "      <td>NaN</td>\n",
              "      <td>NaN</td>\n",
              "      <td>NaN</td>\n",
              "      <td>0.000000</td>\n",
              "      <td>0.000000e+00</td>\n",
              "      <td>NaN</td>\n",
              "    </tr>\n",
              "    <tr>\n",
              "      <th>50%</th>\n",
              "      <td>0.000000</td>\n",
              "      <td>-122.330224</td>\n",
              "      <td>47.615369</td>\n",
              "      <td>106912.000000</td>\n",
              "      <td>123363.000000</td>\n",
              "      <td>123363.000000</td>\n",
              "      <td>NaN</td>\n",
              "      <td>NaN</td>\n",
              "      <td>NaN</td>\n",
              "      <td>29973.000000</td>\n",
              "      <td>NaN</td>\n",
              "      <td>NaN</td>\n",
              "      <td>NaN</td>\n",
              "      <td>1.000000</td>\n",
              "      <td>NaN</td>\n",
              "      <td>NaN</td>\n",
              "      <td>2.000000</td>\n",
              "      <td>0.000000</td>\n",
              "      <td>0.000000</td>\n",
              "      <td>2.000000</td>\n",
              "      <td>NaN</td>\n",
              "      <td>NaN</td>\n",
              "      <td>NaN</td>\n",
              "      <td>13.000000</td>\n",
              "      <td>NaN</td>\n",
              "      <td>NaN</td>\n",
              "      <td>NaN</td>\n",
              "      <td>NaN</td>\n",
              "      <td>NaN</td>\n",
              "      <td>NaN</td>\n",
              "      <td>NaN</td>\n",
              "      <td>8.023022e+06</td>\n",
              "      <td>NaN</td>\n",
              "      <td>NaN</td>\n",
              "      <td>NaN</td>\n",
              "      <td>0.000000</td>\n",
              "      <td>0.000000e+00</td>\n",
              "      <td>NaN</td>\n",
              "    </tr>\n",
              "    <tr>\n",
              "      <th>75%</th>\n",
              "      <td>1.000000</td>\n",
              "      <td>-122.311937</td>\n",
              "      <td>47.663664</td>\n",
              "      <td>162272.000000</td>\n",
              "      <td>203319.000000</td>\n",
              "      <td>203459.000000</td>\n",
              "      <td>NaN</td>\n",
              "      <td>NaN</td>\n",
              "      <td>NaN</td>\n",
              "      <td>33973.000000</td>\n",
              "      <td>NaN</td>\n",
              "      <td>NaN</td>\n",
              "      <td>NaN</td>\n",
              "      <td>2.000000</td>\n",
              "      <td>NaN</td>\n",
              "      <td>NaN</td>\n",
              "      <td>3.000000</td>\n",
              "      <td>0.000000</td>\n",
              "      <td>0.000000</td>\n",
              "      <td>2.000000</td>\n",
              "      <td>NaN</td>\n",
              "      <td>NaN</td>\n",
              "      <td>NaN</td>\n",
              "      <td>14.000000</td>\n",
              "      <td>NaN</td>\n",
              "      <td>NaN</td>\n",
              "      <td>NaN</td>\n",
              "      <td>NaN</td>\n",
              "      <td>NaN</td>\n",
              "      <td>NaN</td>\n",
              "      <td>NaN</td>\n",
              "      <td>1.015501e+07</td>\n",
              "      <td>NaN</td>\n",
              "      <td>NaN</td>\n",
              "      <td>NaN</td>\n",
              "      <td>0.000000</td>\n",
              "      <td>0.000000e+00</td>\n",
              "      <td>NaN</td>\n",
              "    </tr>\n",
              "    <tr>\n",
              "      <th>max</th>\n",
              "      <td>1.000000</td>\n",
              "      <td>-122.238949</td>\n",
              "      <td>47.734142</td>\n",
              "      <td>219547.000000</td>\n",
              "      <td>331454.000000</td>\n",
              "      <td>332954.000000</td>\n",
              "      <td>NaN</td>\n",
              "      <td>NaN</td>\n",
              "      <td>NaN</td>\n",
              "      <td>757580.000000</td>\n",
              "      <td>NaN</td>\n",
              "      <td>NaN</td>\n",
              "      <td>NaN</td>\n",
              "      <td>2.000000</td>\n",
              "      <td>NaN</td>\n",
              "      <td>NaN</td>\n",
              "      <td>81.000000</td>\n",
              "      <td>6.000000</td>\n",
              "      <td>2.000000</td>\n",
              "      <td>12.000000</td>\n",
              "      <td>NaN</td>\n",
              "      <td>NaN</td>\n",
              "      <td>NaN</td>\n",
              "      <td>69.000000</td>\n",
              "      <td>NaN</td>\n",
              "      <td>NaN</td>\n",
              "      <td>NaN</td>\n",
              "      <td>NaN</td>\n",
              "      <td>NaN</td>\n",
              "      <td>NaN</td>\n",
              "      <td>NaN</td>\n",
              "      <td>1.307202e+07</td>\n",
              "      <td>NaN</td>\n",
              "      <td>NaN</td>\n",
              "      <td>NaN</td>\n",
              "      <td>525241.000000</td>\n",
              "      <td>5.239700e+06</td>\n",
              "      <td>NaN</td>\n",
              "    </tr>\n",
              "  </tbody>\n",
              "</table>\n",
              "</div>"
            ],
            "text/plain": [
              "         SEVERITYCODE              X  ...  CROSSWALKKEY  HITPARKEDCAR\n",
              "count   194673.000000  189339.000000  ...  1.946730e+05        194673\n",
              "unique            NaN            NaN  ...           NaN             2\n",
              "top               NaN            NaN  ...           NaN             N\n",
              "freq              NaN            NaN  ...           NaN        187457\n",
              "mean         0.298901    -122.330518  ...  9.782452e+03           NaN\n",
              "std          0.457778       0.029976  ...  7.226926e+04           NaN\n",
              "min          0.000000    -122.419091  ...  0.000000e+00           NaN\n",
              "25%          0.000000    -122.348673  ...  0.000000e+00           NaN\n",
              "50%          0.000000    -122.330224  ...  0.000000e+00           NaN\n",
              "75%          1.000000    -122.311937  ...  0.000000e+00           NaN\n",
              "max          1.000000    -122.238949  ...  5.239700e+06           NaN\n",
              "\n",
              "[11 rows x 38 columns]"
            ]
          },
          "metadata": {
            "tags": []
          },
          "execution_count": 108
        }
      ]
    },
    {
      "cell_type": "code",
      "metadata": {
        "id": "2-hsBWWA1Lj2",
        "colab_type": "code",
        "colab": {
          "base_uri": "https://localhost:8080/",
          "height": 104
        },
        "outputId": "9162699f-70b5-4036-b153-96e9e9f4541f"
      },
      "source": [
        "#Plotting counts of selected variables\n",
        "descriptive_stats_plot=descriptive_stats[[\"INATTENTIONIND\",\"UNDERINFL\",\"WEATHER\",\"ROADCOND\",\"LIGHTCOND\",\"SPEEDING\",\"SEVERITYCODE\"]]\n",
        "descriptive_stats_plot.drop(['unique','top','freq','mean','std','min','max','25%','50%','75%'],axis=0,inplace=True)\n",
        "descriptive_stats_plot=descriptive_stats_plot.transpose()"
      ],
      "execution_count": 109,
      "outputs": [
        {
          "output_type": "stream",
          "text": [
            "/usr/local/lib/python3.6/dist-packages/pandas/core/frame.py:3997: SettingWithCopyWarning: \n",
            "A value is trying to be set on a copy of a slice from a DataFrame\n",
            "\n",
            "See the caveats in the documentation: https://pandas.pydata.org/pandas-docs/stable/user_guide/indexing.html#returning-a-view-versus-a-copy\n",
            "  errors=errors,\n"
          ],
          "name": "stderr"
        }
      ]
    },
    {
      "cell_type": "code",
      "metadata": {
        "id": "8e-_oyU06vMN",
        "colab_type": "code",
        "colab": {
          "base_uri": "https://localhost:8080/",
          "height": 321
        },
        "outputId": "c05d1519-fc8e-41c3-c585-baf5c89783d5"
      },
      "source": [
        "color_yo=['sandybrown','sienna','sienna','sienna','sienna','sandybrown','sienna']\n",
        "\n",
        "descriptive_stats_plot.plot(kind='bar',alpha=0.70,color=[color_yo])\n",
        "plt.title('Number of entries in data for each variable - Seattle, Washington', fontsize=20, fontweight='bold')\n",
        "plt.xlabel(\"Variables\",fontsize=15,labelpad=20)\n",
        "plt.ylabel(\"Frequency\",fontsize=15,labelpad=20)\n",
        "plt.xticks(rotation=360)\n",
        "plt.show()"
      ],
      "execution_count": 110,
      "outputs": [
        {
          "output_type": "display_data",
          "data": {
            "image/png": "[encoded data removed]",
            "text/plain": [
              "<Figure size 432x288 with 1 Axes>"
            ]
          },
          "metadata": {
            "tags": [],
            "needs_background": "light"
          }
        }
      ]
    },
    {
      "cell_type": "code",
      "metadata": {
        "id": "j476HARP62sS",
        "colab_type": "code",
        "colab": {
          "base_uri": "https://localhost:8080/",
          "height": 393
        },
        "outputId": "2be57208-7bd6-4931-f09d-ded614e3a5a4"
      },
      "source": [
        "#Area type of each accident\n",
        "\n",
        "explode_list = [0.05, 0.05, 0.2]\n",
        "color_list=['peachpuff','lightseagreen','darkorange']\n",
        "addtype=main_df['ADDRTYPE'].value_counts()\n",
        "\n",
        "addtype.plot(kind='pie',\n",
        "            figsize=(15, 6),\n",
        "            autopct='%1.1f%%',\n",
        "            startangle=90,\n",
        "            shadow=True,\n",
        "            labels=None,\n",
        "            pctdistance=1.12,\n",
        "            colors=color_list,\n",
        "            explode=explode_list)\n",
        "\n",
        "\n",
        "plt.title('Area of accident - Seattle, Washington', fontsize=18, y=1.05)\n",
        "plt.axis('equal')\n",
        "plt.legend(labels=addtype.index, loc='lower left')\n",
        "\n",
        "plt.show()\n"
      ],
      "execution_count": 111,
      "outputs": [
        {
          "output_type": "display_data",
          "data": {
            "image/png": "[encoded data removed]",
            "text/plain": [
              "<Figure size 1080x432 with 1 Axes>"
            ]
          },
          "metadata": {
            "tags": []
          }
        }
      ]
    },
    {
      "cell_type": "code",
      "metadata": {
        "id": "duysFuXs7DGZ",
        "colab_type": "code",
        "colab": {
          "base_uri": "https://localhost:8080/",
          "height": 35
        },
        "outputId": "cc1e4fd4-fe01-4c84-ddf3-73b142fd5c7a"
      },
      "source": [
        "#Check IncKey unqiue numbers\n",
        "main_df['INCKEY'].nunique()"
      ],
      "execution_count": 112,
      "outputs": [
        {
          "output_type": "execute_result",
          "data": {
            "text/plain": [
              "194673"
            ]
          },
          "metadata": {
            "tags": []
          },
          "execution_count": 112
        }
      ]
    },
    {
      "cell_type": "code",
      "metadata": {
        "id": "GJFot65C7ZTy",
        "colab_type": "code",
        "colab": {}
      },
      "source": [
        "#Encoding in attention (0 = No, 1 = Yes)\n",
        "\n",
        "main_df[\"INATTENTIONIND\"].replace(\"Y\", 1, inplace=True)\n",
        "main_df[\"INATTENTIONIND\"].replace(np.nan, 0, inplace=True)"
      ],
      "execution_count": 113,
      "outputs": []
    },
    {
      "cell_type": "code",
      "metadata": {
        "id": "gjt44cYp7dA4",
        "colab_type": "code",
        "colab": {}
      },
      "source": [
        "#Encoding Under the influence (0 = No, 1 = Yes)\n",
        "\n",
        "main_df[\"UNDERINFL\"].replace(\"N\", 0, inplace=True)\n",
        "main_df[\"UNDERINFL\"].replace(\"Y\", 1, inplace=True)\n"
      ],
      "execution_count": 114,
      "outputs": []
    },
    {
      "cell_type": "code",
      "metadata": {
        "id": "ct9A2vWt7hvC",
        "colab_type": "code",
        "colab": {}
      },
      "source": [
        "#Encoding Speeding(0 = No, 1 = Yes)\n",
        "\n",
        "main_df[\"SPEEDING\"].replace(\"Y\", 1, inplace=True)\n",
        "main_df[\"SPEEDING\"].replace(np.nan, 0, inplace=True)"
      ],
      "execution_count": 115,
      "outputs": []
    },
    {
      "cell_type": "code",
      "metadata": {
        "id": "kmofunM_7lNy",
        "colab_type": "code",
        "colab": {}
      },
      "source": [
        "#Encoding Light Conditions(0 = Light, 1 = Medium, 2 = Dark)\n",
        "\n",
        "main_df[\"LIGHTCOND\"].replace(\"Daylight\", 0, inplace=True)\n",
        "main_df[\"LIGHTCOND\"].replace(\"Dark - Street Lights On\", 1, inplace=True)\n",
        "main_df[\"LIGHTCOND\"].replace(\"Dark - No Street Lights\", 2, inplace=True)\n",
        "main_df[\"LIGHTCOND\"].replace(\"Dusk\", 1, inplace=True)\n",
        "main_df[\"LIGHTCOND\"].replace(\"Dawn\", 1, inplace=True)\n",
        "main_df[\"LIGHTCOND\"].replace(\"Dark - Street Lights Off\", 2, inplace=True)\n",
        "main_df[\"LIGHTCOND\"].replace(\"Dark - Unknown Lighting\", 2, inplace=True)\n",
        "main_df[\"LIGHTCOND\"].replace(\"Other\",\"Unknown\", inplace=True)"
      ],
      "execution_count": 116,
      "outputs": []
    },
    {
      "cell_type": "code",
      "metadata": {
        "id": "xM4l-uA37saO",
        "colab_type": "code",
        "colab": {}
      },
      "source": [
        "#Encoding Weather Conditions(0 = Clear, 1 = Overcast and Cloudy, 2 = Windy, 3 = Rain and Snow\n",
        "\n",
        "main_df[\"WEATHER\"].replace(\"Clear\", 0, inplace=True)\n",
        "main_df[\"WEATHER\"].replace(\"Raining\", 3, inplace=True)\n",
        "main_df[\"WEATHER\"].replace(\"Overcast\", 1, inplace=True)\n",
        "main_df[\"WEATHER\"].replace(\"Other\", \"Unknown\", inplace=True)\n",
        "main_df[\"WEATHER\"].replace(\"Snowing\", 3, inplace=True)\n",
        "main_df[\"WEATHER\"].replace(\"Fog/Smog/Smoke\", 2, inplace=True)\n",
        "main_df[\"WEATHER\"].replace(\"Sleet/Hail/Freezing Rain\", 3, inplace=True)\n",
        "main_df[\"WEATHER\"].replace(\"Blowing Sand/Dirt\", 2, inplace=True)\n",
        "main_df[\"WEATHER\"].replace(\"Severe Crosswind\", 2, inplace=True)\n",
        "main_df[\"WEATHER\"].replace(\"Partly Cloudy\", 1, inplace=True)"
      ],
      "execution_count": 117,
      "outputs": []
    },
    {
      "cell_type": "code",
      "metadata": {
        "id": "wqNc-gth7ytv",
        "colab_type": "code",
        "colab": {}
      },
      "source": [
        "#Encoding Road Conditions(0 = Dry, 1 = Mushy, 2 = Wet)\n",
        "\n",
        "main_df[\"ROADCOND\"].replace(\"Dry\", 0, inplace=True)\n",
        "main_df[\"ROADCOND\"].replace(\"Wet\", 2, inplace=True)\n",
        "main_df[\"ROADCOND\"].replace(\"Ice\", 2, inplace=True)\n",
        "main_df[\"ROADCOND\"].replace(\"Snow/Slush\", 1, inplace=True)\n",
        "main_df[\"ROADCOND\"].replace(\"Other\", \"Unknown\", inplace=True)\n",
        "main_df[\"ROADCOND\"].replace(\"Standing Water\", 2, inplace=True)\n",
        "main_df[\"ROADCOND\"].replace(\"Sand/Mud/Dirt\", 1, inplace=True)\n",
        "main_df[\"ROADCOND\"].replace(\"Oil\", 2, inplace=True)"
      ],
      "execution_count": 118,
      "outputs": []
    },
    {
      "cell_type": "code",
      "metadata": {
        "id": "4Zklaq4I72E2",
        "colab_type": "code",
        "colab": {
          "base_uri": "https://localhost:8080/",
          "height": 294
        },
        "outputId": "99136a93-242a-4b0f-ad1b-74a229a990e0"
      },
      "source": [
        "#Making new dataframe with only variables and unique keys\n",
        "\n",
        "selected_columns=main_df[[\"X\",\"Y\",\"INCKEY\",\"INATTENTIONIND\",\"UNDERINFL\",\"WEATHER\",\"ROADCOND\",\"LIGHTCOND\",\"SPEEDING\",\"SEVERITYCODE\"]]\n",
        "\n",
        "feature_df=selected_columns.copy()\n",
        "feature_df.dropna(axis=0,how='any',inplace=True)\n",
        "feature_stats=feature_df.describe()\n",
        "feature_stats"
      ],
      "execution_count": 119,
      "outputs": [
        {
          "output_type": "execute_result",
          "data": {
            "text/html": [
              "<div>\n",
              "<style scoped>\n",
              "    .dataframe tbody tr th:only-of-type {\n",
              "        vertical-align: middle;\n",
              "    }\n",
              "\n",
              "    .dataframe tbody tr th {\n",
              "        vertical-align: top;\n",
              "    }\n",
              "\n",
              "    .dataframe thead th {\n",
              "        text-align: right;\n",
              "    }\n",
              "</style>\n",
              "<table border=\"1\" class=\"dataframe\">\n",
              "  <thead>\n",
              "    <tr style=\"text-align: right;\">\n",
              "      <th></th>\n",
              "      <th>X</th>\n",
              "      <th>Y</th>\n",
              "      <th>INCKEY</th>\n",
              "      <th>INATTENTIONIND</th>\n",
              "      <th>SPEEDING</th>\n",
              "      <th>SEVERITYCODE</th>\n",
              "    </tr>\n",
              "  </thead>\n",
              "  <tbody>\n",
              "    <tr>\n",
              "      <th>count</th>\n",
              "      <td>184167.000000</td>\n",
              "      <td>184167.000000</td>\n",
              "      <td>184167.000000</td>\n",
              "      <td>184167.000000</td>\n",
              "      <td>184167.000000</td>\n",
              "      <td>184167.000000</td>\n",
              "    </tr>\n",
              "    <tr>\n",
              "      <th>mean</th>\n",
              "      <td>-122.330502</td>\n",
              "      <td>47.619544</td>\n",
              "      <td>138384.461586</td>\n",
              "      <td>0.158003</td>\n",
              "      <td>0.047278</td>\n",
              "      <td>0.304142</td>\n",
              "    </tr>\n",
              "    <tr>\n",
              "      <th>std</th>\n",
              "      <td>0.030018</td>\n",
              "      <td>0.056215</td>\n",
              "      <td>85503.159003</td>\n",
              "      <td>0.364745</td>\n",
              "      <td>0.212233</td>\n",
              "      <td>0.460045</td>\n",
              "    </tr>\n",
              "    <tr>\n",
              "      <th>min</th>\n",
              "      <td>-122.419091</td>\n",
              "      <td>47.495573</td>\n",
              "      <td>1001.000000</td>\n",
              "      <td>0.000000</td>\n",
              "      <td>0.000000</td>\n",
              "      <td>0.000000</td>\n",
              "    </tr>\n",
              "    <tr>\n",
              "      <th>25%</th>\n",
              "      <td>-122.348846</td>\n",
              "      <td>47.575884</td>\n",
              "      <td>68873.500000</td>\n",
              "      <td>0.000000</td>\n",
              "      <td>0.000000</td>\n",
              "      <td>0.000000</td>\n",
              "    </tr>\n",
              "    <tr>\n",
              "      <th>50%</th>\n",
              "      <td>-122.330168</td>\n",
              "      <td>47.615361</td>\n",
              "      <td>120488.000000</td>\n",
              "      <td>0.000000</td>\n",
              "      <td>0.000000</td>\n",
              "      <td>0.000000</td>\n",
              "    </tr>\n",
              "    <tr>\n",
              "      <th>75%</th>\n",
              "      <td>-122.311922</td>\n",
              "      <td>47.663835</td>\n",
              "      <td>199259.000000</td>\n",
              "      <td>0.000000</td>\n",
              "      <td>0.000000</td>\n",
              "      <td>1.000000</td>\n",
              "    </tr>\n",
              "    <tr>\n",
              "      <th>max</th>\n",
              "      <td>-122.238949</td>\n",
              "      <td>47.734142</td>\n",
              "      <td>331342.000000</td>\n",
              "      <td>1.000000</td>\n",
              "      <td>1.000000</td>\n",
              "      <td>1.000000</td>\n",
              "    </tr>\n",
              "  </tbody>\n",
              "</table>\n",
              "</div>"
            ],
            "text/plain": [
              "                   X              Y  ...       SPEEDING   SEVERITYCODE\n",
              "count  184167.000000  184167.000000  ...  184167.000000  184167.000000\n",
              "mean     -122.330502      47.619544  ...       0.047278       0.304142\n",
              "std         0.030018       0.056215  ...       0.212233       0.460045\n",
              "min      -122.419091      47.495573  ...       0.000000       0.000000\n",
              "25%      -122.348846      47.575884  ...       0.000000       0.000000\n",
              "50%      -122.330168      47.615361  ...       0.000000       0.000000\n",
              "75%      -122.311922      47.663835  ...       0.000000       1.000000\n",
              "max      -122.238949      47.734142  ...       1.000000       1.000000\n",
              "\n",
              "[8 rows x 6 columns]"
            ]
          },
          "metadata": {
            "tags": []
          },
          "execution_count": 119
        }
      ]
    },
    {
      "cell_type": "code",
      "metadata": {
        "id": "jI2EbG0A8Bzq",
        "colab_type": "code",
        "colab": {
          "base_uri": "https://localhost:8080/",
          "height": 35
        },
        "outputId": "7a896276-a61a-42b9-b3ba-4b0c2d263acc"
      },
      "source": [
        "np.count_nonzero(feature_df['UNDERINFL'])"
      ],
      "execution_count": 120,
      "outputs": [
        {
          "output_type": "execute_result",
          "data": {
            "text/plain": [
              "86923"
            ]
          },
          "metadata": {
            "tags": []
          },
          "execution_count": 120
        }
      ]
    },
    {
      "cell_type": "code",
      "metadata": {
        "id": "OiMWdeGl8Qiz",
        "colab_type": "code",
        "colab": {
          "base_uri": "https://localhost:8080/",
          "height": 52
        },
        "outputId": "1c1e7119-d993-4407-aded-eda06670d94b"
      },
      "source": [
        "#Light Condition\n",
        "\n",
        "lightcondsize = feature_df [\"LIGHTCOND\"].size\n",
        "\n",
        "featureinlightcond = feature_df ['LIGHTCOND'] == 'Unknown'\n",
        "\n",
        "lightcond = feature_df['LIGHTCOND']\n",
        "lightcond = lightcond.values\n",
        "lightcond = lightcond[featureinlightcond]\n",
        "lightcond"
      ],
      "execution_count": 121,
      "outputs": [
        {
          "output_type": "execute_result",
          "data": {
            "text/plain": [
              "array(['Unknown', 'Unknown', 'Unknown', ..., 'Unknown', 'Unknown',\n",
              "       'Unknown'], dtype=object)"
            ]
          },
          "metadata": {
            "tags": []
          },
          "execution_count": 121
        }
      ]
    },
    {
      "cell_type": "code",
      "metadata": {
        "id": "YYtP2QcL8Y5I",
        "colab_type": "code",
        "colab": {}
      },
      "source": [
        "lightcond[0:9036]=0\n",
        "lightcond[9036:13417]=1\n",
        "lightcond[13417:13961]=2\n",
        "\n",
        "feature_df.loc[feature_df.LIGHTCOND == \"Unknown\", 'LIGHTCOND'] =  lightcond\n",
        "\n",
        "feature_df[\"LIGHTCOND\"]=feature_df[\"LIGHTCOND\"].astype(int)\n"
      ],
      "execution_count": 122,
      "outputs": []
    },
    {
      "cell_type": "code",
      "metadata": {
        "id": "yOEm79A28kLk",
        "colab_type": "code",
        "colab": {}
      },
      "source": [
        "#Road Condition\n",
        "roadcondsize = feature_df [\"ROADCOND\"].size\n",
        "\n",
        "featureinroadcond = feature_df ['ROADCOND'] == 'Unknown'\n",
        "\n",
        "roadcond = feature_df['LIGHTCOND']\n",
        "roadcond = roadcond.values\n",
        "roadcond = roadcond[featureinroadcond]\n",
        "\n",
        "roadcond[0:9954]=0\n",
        "roadcond[9954:10040]=1\n",
        "roadcond[10040:15163]=2\n",
        "\n",
        "feature_df.loc[feature_df.ROADCOND == \"Unknown\", 'ROADCOND'] = roadcond\n",
        "feature_df[\"ROADCOND\"]=feature_df[\"ROADCOND\"].astype(int)"
      ],
      "execution_count": 123,
      "outputs": []
    },
    {
      "cell_type": "code",
      "metadata": {
        "id": "gXrvdaQo85wo",
        "colab_type": "code",
        "colab": {}
      },
      "source": [
        "#Weather Condition\n",
        "weathersize = feature_df [\"WEATHER\"].size\n",
        "\n",
        "featureinweather = feature_df ['WEATHER'] == 'Unknown'\n",
        "\n",
        "weather = feature_df['WEATHER']\n",
        "weather = weather.values\n",
        "weather = weather[featureinweather]\n",
        "\n",
        "weather[0:10151]=0\n",
        "weather[10151:12683]=1\n",
        "weather[12683:12742]=2\n",
        "weather[12742:15864]=3\n",
        "\n",
        "feature_df.loc[feature_df.WEATHER == \"Unknown\", 'WEATHER'] = weather\n",
        "feature_df[\"WEATHER\"]=feature_df[\"WEATHER\"].astype(int)"
      ],
      "execution_count": 124,
      "outputs": []
    },
    {
      "cell_type": "code",
      "metadata": {
        "id": "veWD1l5V9VCh",
        "colab_type": "code",
        "colab": {}
      },
      "source": [
        "#Converting remaining to int\n",
        "\n",
        "feature_df[\"SPEEDING\"]=feature_df[\"SPEEDING\"].astype(int)\n",
        "feature_df[\"INATTENTIONIND\"]=feature_df[\"INATTENTIONIND\"].astype(int)\n",
        "feature_df[\"UNDERINFL\"]=feature_df[\"UNDERINFL\"].astype(int)"
      ],
      "execution_count": 125,
      "outputs": []
    },
    {
      "cell_type": "code",
      "metadata": {
        "id": "Laos39cS9n6T",
        "colab_type": "code",
        "colab": {}
      },
      "source": [
        "#ML Feature Sets\n",
        "\n",
        "X = feature_df[[\"SPEEDING\",\"INATTENTIONIND\",\"UNDERINFL\",\"ROADCOND\",\"WEATHER\",\"LIGHTCOND\"]].values\n",
        "y = feature_df[[\"SEVERITYCODE\"]].values"
      ],
      "execution_count": 126,
      "outputs": []
    },
    {
      "cell_type": "code",
      "metadata": {
        "id": "QiG2FADO9rNz",
        "colab_type": "code",
        "colab": {
          "base_uri": "https://localhost:8080/",
          "height": 52
        },
        "outputId": "cca032c0-acfe-4fb1-df59-f22507d3b239"
      },
      "source": [
        "#Test/Train split\n",
        "\n",
        "X_train, X_test, y_train, y_test = train_test_split(X, y, test_size=0.3, random_state=4)\n",
        "print ('Train set:', X_train.shape,  y_train.shape)\n",
        "print ('Test set:', X_test.shape,  y_test.shape)"
      ],
      "execution_count": 127,
      "outputs": [
        {
          "output_type": "stream",
          "text": [
            "Train set: (128916, 6) (128916, 1)\n",
            "Test set: (55251, 6) (55251, 1)\n"
          ],
          "name": "stdout"
        }
      ]
    },
    {
      "cell_type": "code",
      "metadata": {
        "id": "GCz_bHbF9zWM",
        "colab_type": "code",
        "colab": {
          "base_uri": "https://localhost:8080/",
          "height": 107
        },
        "outputId": "fa2b8d5f-b085-4a1c-893a-18d7f92312e8"
      },
      "source": [
        "# Balance the Data\n",
        "\n",
        "os = SMOTE (random_state=0)\n",
        "os_data_X, os_data_y= os.fit_sample(X_train, y_train)"
      ],
      "execution_count": 128,
      "outputs": [
        {
          "output_type": "stream",
          "text": [
            "/usr/local/lib/python3.6/dist-packages/sklearn/utils/validation.py:760: DataConversionWarning: A column-vector y was passed when a 1d array was expected. Please change the shape of y to (n_samples, ), for example using ravel().\n",
            "  y = column_or_1d(y, warn=True)\n",
            "/usr/local/lib/python3.6/dist-packages/sklearn/utils/deprecation.py:87: FutureWarning: Function safe_indexing is deprecated; safe_indexing is deprecated in version 0.22 and will be removed in version 0.24.\n",
            "  warnings.warn(msg, category=FutureWarning)\n"
          ],
          "name": "stderr"
        }
      ]
    },
    {
      "cell_type": "code",
      "metadata": {
        "id": "AjaJGrOV-ji2",
        "colab_type": "code",
        "colab": {
          "base_uri": "https://localhost:8080/",
          "height": 121
        },
        "outputId": "3a782657-aff2-461e-d499-280f04e448d3"
      },
      "source": [
        "#Decision Tree Clasifier\n",
        "DT = DecisionTreeClassifier(criterion=\"entropy\", max_depth=6)\n",
        "DT.fit(os_data_X,os_data_y)"
      ],
      "execution_count": 129,
      "outputs": [
        {
          "output_type": "execute_result",
          "data": {
            "text/plain": [
              "DecisionTreeClassifier(ccp_alpha=0.0, class_weight=None, criterion='entropy',\n",
              "                       max_depth=6, max_features=None, max_leaf_nodes=None,\n",
              "                       min_impurity_decrease=0.0, min_impurity_split=None,\n",
              "                       min_samples_leaf=1, min_samples_split=2,\n",
              "                       min_weight_fraction_leaf=0.0, presort='deprecated',\n",
              "                       random_state=None, splitter='best')"
            ]
          },
          "metadata": {
            "tags": []
          },
          "execution_count": 129
        }
      ]
    },
    {
      "cell_type": "code",
      "metadata": {
        "id": "S7lezP1L-noy",
        "colab_type": "code",
        "colab": {}
      },
      "source": [
        "#Make Prediction:\n",
        "yhatDT = DT.predict(X_test)"
      ],
      "execution_count": 130,
      "outputs": []
    },
    {
      "cell_type": "code",
      "metadata": {
        "id": "2OI2kOTdBdJ8",
        "colab_type": "code",
        "colab": {
          "base_uri": "https://localhost:8080/",
          "height": 35
        },
        "outputId": "19aa3391-f169-4986-8f23-f794d0d0e01d"
      },
      "source": [
        "#Check Accuracy\n",
        "print('Accuracy score for Decision Tree = ', accuracy_score(yhatDT, y_test))"
      ],
      "execution_count": 131,
      "outputs": [
        {
          "output_type": "stream",
          "text": [
            "Accuracy score for Decision Tree =  0.5760076740692476\n"
          ],
          "name": "stdout"
        }
      ]
    },
    {
      "cell_type": "code",
      "metadata": {
        "id": "UXNiRsrzCIYe",
        "colab_type": "code",
        "colab": {
          "base_uri": "https://localhost:8080/",
          "height": 277
        },
        "outputId": "0e2c166f-a39b-44f5-9f0c-04e5eee27a97"
      },
      "source": [
        "\n",
        "print('Confusion Matrix - Decision Tree')\n",
        "print(pd.crosstab(y_test.ravel(), yhatDT.ravel(), rownames = ['True'], colnames = ['Predicted'], margins = True))\n",
        "\n",
        "print(classification_report(yhatDT,y_test))"
      ],
      "execution_count": 132,
      "outputs": [
        {
          "output_type": "stream",
          "text": [
            "Confusion Matrix - Decision Tree\n",
            "Predicted      0      1    All\n",
            "True                          \n",
            "0          24461  13984  38445\n",
            "1           9442   7364  16806\n",
            "All        33903  21348  55251\n",
            "              precision    recall  f1-score   support\n",
            "\n",
            "           0       0.64      0.72      0.68     33903\n",
            "           1       0.44      0.34      0.39     21348\n",
            "\n",
            "    accuracy                           0.58     55251\n",
            "   macro avg       0.54      0.53      0.53     55251\n",
            "weighted avg       0.56      0.58      0.56     55251\n",
            "\n"
          ],
          "name": "stdout"
        }
      ]
    },
    {
      "cell_type": "code",
      "metadata": {
        "id": "Lu-kUqgQCepv",
        "colab_type": "code",
        "colab": {}
      },
      "source": [
        "def plot_confusion_matrix(cm, classes,\n",
        "                          normalize=False,\n",
        "                          title='Confusion matrix',\n",
        "                          cmap=plt.cm.Blues):\n",
        "    \"\"\"\n",
        "    This function prints and plots the confusion matrix.\n",
        "    Normalization can be applied by setting `normalize=True`.\n",
        "    \"\"\"\n",
        "    if normalize:\n",
        "        cm = cm.astype('float') / cm.sum(axis=1)[:, np.newaxis]\n",
        "        print(\"Normalized confusion matrix\")\n",
        "    else:\n",
        "        print('Confusion matrix, without normalization')\n",
        "\n",
        "    print(cm)\n",
        "\n",
        "    plt.imshow(cm, interpolation='nearest', cmap=cmap)\n",
        "    plt.title(title)\n",
        "    plt.colorbar()\n",
        "    tick_marks = np.arange(len(classes))\n",
        "    plt.xticks(tick_marks, classes, rotation=45)\n",
        "    plt.yticks(tick_marks, classes)\n",
        "\n",
        "    fmt = '.2f' if normalize else 'd'\n",
        "    thresh = cm.max() / 2.\n",
        "    for i, j in itertools.product(range(cm.shape[0]), range(cm.shape[1])):\n",
        "        plt.text(j, i, format(cm[i, j], fmt),\n",
        "                 horizontalalignment=\"center\",\n",
        "                 color=\"white\" if cm[i, j] > thresh else \"black\")\n",
        "\n",
        "    plt.tight_layout()\n",
        "    plt.ylabel('True label')\n",
        "    plt.xlabel('Predicted label')"
      ],
      "execution_count": 133,
      "outputs": []
    },
    {
      "cell_type": "code",
      "metadata": {
        "id": "aZNOfDWXCsK2",
        "colab_type": "code",
        "colab": {}
      },
      "source": [
        "#Plot it\n",
        "cnf_matrix = confusion_matrix(y_test, yhatDT, labels=[1,0])\n",
        "np.set_printoptions(precision=2)"
      ],
      "execution_count": 134,
      "outputs": []
    },
    {
      "cell_type": "code",
      "metadata": {
        "id": "aeVYTaBICuv5",
        "colab_type": "code",
        "colab": {
          "base_uri": "https://localhost:8080/",
          "height": 548
        },
        "outputId": "d0448330-6789-4c00-e6b5-2cc9c5eb7b6b"
      },
      "source": [
        "# Plot confusion matrix\n",
        "plt.figure(figsize=(7,7))\n",
        "plot_confusion_matrix(cnf_matrix, classes=['Injury=1','Property Damage=0'],normalize= False,  title='Confusion matrix')"
      ],
      "execution_count": 135,
      "outputs": [
        {
          "output_type": "stream",
          "text": [
            "Confusion matrix, without normalization\n",
            "[[ 7364  9442]\n",
            " [13984 24461]]\n"
          ],
          "name": "stdout"
        },
        {
          "output_type": "display_data",
          "data": {
            "image/png": "[encoded data removed]",
            "text/plain": [
              "<Figure size 504x504 with 2 Axes>"
            ]
          },
          "metadata": {
            "tags": [],
            "needs_background": "light"
          }
        }
      ]
    },
    {
      "cell_type": "code",
      "metadata": {
        "id": "e8ZAGfnKCzqN",
        "colab_type": "code",
        "colab": {}
      },
      "source": [
        "#Logistic Regression\n",
        "LR = LogisticRegression(C=0.01, solver='liblinear').fit(os_data_X,os_data_y)"
      ],
      "execution_count": 136,
      "outputs": []
    },
    {
      "cell_type": "code",
      "metadata": {
        "id": "nfSmzl3aDPXD",
        "colab_type": "code",
        "colab": {
          "base_uri": "https://localhost:8080/",
          "height": 35
        },
        "outputId": "dfcc5bc7-ab5f-43d7-f00b-fa96495df7ed"
      },
      "source": [
        "yhatLR = LR.predict(X_test)\n",
        "yhat_prob = LR.predict_proba(X_test)\n",
        "\n",
        "print(log_loss(y_test, yhat_prob))"
      ],
      "execution_count": 137,
      "outputs": [
        {
          "output_type": "stream",
          "text": [
            "0.6888226756788725\n"
          ],
          "name": "stdout"
        }
      ]
    },
    {
      "cell_type": "code",
      "metadata": {
        "id": "8Fl7yzEDDR2c",
        "colab_type": "code",
        "colab": {
          "base_uri": "https://localhost:8080/",
          "height": 191
        },
        "outputId": "69d9b2a7-1f41-4122-8c07-e21c49e11fc5"
      },
      "source": [
        "print (\"Accuracy\", accuracy_score(yhatLR,y_test))\n",
        "print (classification_report(y_test, yhatLR))"
      ],
      "execution_count": 138,
      "outputs": [
        {
          "output_type": "stream",
          "text": [
            "Accuracy 0.5888219217751715\n",
            "              precision    recall  f1-score   support\n",
            "\n",
            "           0       0.72      0.67      0.69     38445\n",
            "           1       0.35      0.41      0.38     16806\n",
            "\n",
            "    accuracy                           0.59     55251\n",
            "   macro avg       0.53      0.54      0.53     55251\n",
            "weighted avg       0.61      0.59      0.60     55251\n",
            "\n"
          ],
          "name": "stdout"
        }
      ]
    },
    {
      "cell_type": "code",
      "metadata": {
        "id": "V8NJx16bDaR6",
        "colab_type": "code",
        "colab": {
          "base_uri": "https://localhost:8080/",
          "height": 615
        },
        "outputId": "0986f4ad-8664-4430-ac11-91cfa6f7d2d9"
      },
      "source": [
        "cnf_matrix = confusion_matrix(y_test, yhatLR, labels=[1,0])\n",
        "np.set_printoptions(precision=2)\n",
        "\n",
        "# Plot confusion matrix\n",
        "plt.figure(figsize=(8,8))\n",
        "plot_confusion_matrix(cnf_matrix, classes=['Injury=1','Property Damage=0'],normalize= False,  title='Confusion matrix')"
      ],
      "execution_count": 139,
      "outputs": [
        {
          "output_type": "stream",
          "text": [
            "Confusion matrix, without normalization\n",
            "[[ 6846  9960]\n",
            " [12758 25687]]\n"
          ],
          "name": "stdout"
        },
        {
          "output_type": "display_data",
          "data": {
            "image/png": "[encoded data removed]",
            "text/plain": [
              "<Figure size 576x576 with 2 Axes>"
            ]
          },
          "metadata": {
            "tags": [],
            "needs_background": "light"
          }
        }
      ]
    },
    {
      "cell_type": "code",
      "metadata": {
        "id": "gNfb5KGnDs2C",
        "colab_type": "code",
        "colab": {}
      },
      "source": [
        ""
      ],
      "execution_count": 139,
      "outputs": []
    }
  ]
}